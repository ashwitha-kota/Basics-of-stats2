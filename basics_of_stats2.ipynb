{
  "nbformat": 4,
  "nbformat_minor": 0,
  "metadata": {
    "colab": {
      "provenance": []
    },
    "kernelspec": {
      "name": "python3",
      "display_name": "Python 3"
    },
    "language_info": {
      "name": "python"
    }
  },
  "cells": [
    {
      "cell_type": "markdown",
      "source": [
        "#99% confidence interval using simple standard deviation\n"
      ],
      "metadata": {
        "id": "xo_1if13YLSV"
      }
    },
    {
      "cell_type": "code",
      "execution_count": 14,
      "metadata": {
        "id": "UeWP2h0fSgWt"
      },
      "outputs": [],
      "source": [
        "import numpy as np\n",
        "from scipy import stats"
      ]
    },
    {
      "cell_type": "code",
      "source": [
        "data=(1.13, 1.55, 1.43, 0.92, 1.25, 1.36, 1.32, 0.85, 1.07, 1.48, 1.20, 1.33, 1.18, 1.22, 1.29)"
      ],
      "metadata": {
        "id": "yMdClneTUWrX"
      },
      "execution_count": 3,
      "outputs": []
    },
    {
      "cell_type": "code",
      "source": [
        "mean=np.mean(data)"
      ],
      "metadata": {
        "id": "yZL-WFR3V3G-"
      },
      "execution_count": 7,
      "outputs": []
    },
    {
      "cell_type": "code",
      "source": [
        "mean"
      ],
      "metadata": {
        "colab": {
          "base_uri": "https://localhost:8080/"
        },
        "id": "CVP2rwQbV7Dm",
        "outputId": "54dd7f20-6152-468a-f3c3-1899462be42a"
      },
      "execution_count": 8,
      "outputs": [
        {
          "output_type": "execute_result",
          "data": {
            "text/plain": [
              "np.float64(1.2386666666666666)"
            ]
          },
          "metadata": {},
          "execution_count": 8
        }
      ]
    },
    {
      "cell_type": "code",
      "source": [
        "std_dev=np.std(data)"
      ],
      "metadata": {
        "id": "o9KDFogmWEix"
      },
      "execution_count": 9,
      "outputs": []
    },
    {
      "cell_type": "code",
      "source": [
        "std_dev"
      ],
      "metadata": {
        "colab": {
          "base_uri": "https://localhost:8080/"
        },
        "id": "4EHOzsxlWSCp",
        "outputId": "fc4bd35d-8fe7-4128-e1f7-d57dd6272cfe"
      },
      "execution_count": 10,
      "outputs": [
        {
          "output_type": "execute_result",
          "data": {
            "text/plain": [
              "np.float64(0.18661427836285438)"
            ]
          },
          "metadata": {},
          "execution_count": 10
        }
      ]
    },
    {
      "cell_type": "code",
      "source": [
        "n=len(data)"
      ],
      "metadata": {
        "id": "gsf8XYavWUGG"
      },
      "execution_count": 11,
      "outputs": []
    },
    {
      "cell_type": "code",
      "source": [
        "n"
      ],
      "metadata": {
        "colab": {
          "base_uri": "https://localhost:8080/"
        },
        "id": "pTHpEgrBWniD",
        "outputId": "f6d74603-94b0-4df3-eaec-22977acb33c7"
      },
      "execution_count": 12,
      "outputs": [
        {
          "output_type": "execute_result",
          "data": {
            "text/plain": [
              "15"
            ]
          },
          "metadata": {},
          "execution_count": 12
        }
      ]
    },
    {
      "cell_type": "code",
      "source": [
        "#for 99% confidence interval alpha is 1%,(1-0.99)=0.01\n",
        "alpha=0.01\n",
        "dof=n-1 #for t-distribution\n",
        "t_crit=stat.t.ppf(1-alpha/2,dof)"
      ],
      "metadata": {
        "id": "PzrAYBv9WodT"
      },
      "execution_count": 21,
      "outputs": []
    },
    {
      "cell_type": "code",
      "source": [
        "t_crit"
      ],
      "metadata": {
        "colab": {
          "base_uri": "https://localhost:8080/"
        },
        "id": "FjSaMLL1YAzy",
        "outputId": "32864d85-54b3-4231-e79c-59e5b1d1f749"
      },
      "execution_count": 19,
      "outputs": [
        {
          "output_type": "execute_result",
          "data": {
            "text/plain": [
              "np.float64(2.976842734370834)"
            ]
          },
          "metadata": {},
          "execution_count": 19
        }
      ]
    },
    {
      "cell_type": "code",
      "source": [
        "#margin of error\n",
        "margin_of_error=t_crit*(std_dev/np.sqrt(n))"
      ],
      "metadata": {
        "id": "rUFI2YmgXR6-"
      },
      "execution_count": 16,
      "outputs": []
    },
    {
      "cell_type": "code",
      "source": [
        "margin_of_error"
      ],
      "metadata": {
        "colab": {
          "base_uri": "https://localhost:8080/"
        },
        "id": "pofa4ejScPrJ",
        "outputId": "13de0fa4-50f8-40e7-b090-3d769ba7ded8"
      },
      "execution_count": 22,
      "outputs": [
        {
          "output_type": "execute_result",
          "data": {
            "text/plain": [
              "np.float64(0.14343499804054372)"
            ]
          },
          "metadata": {},
          "execution_count": 22
        }
      ]
    },
    {
      "cell_type": "code",
      "source": [
        "#99% confidence interval\n",
        "confidence_interval=(mean-margin_of_error,mean+margin_of_error)"
      ],
      "metadata": {
        "id": "jKBTzKNxXlxi"
      },
      "execution_count": 20,
      "outputs": []
    },
    {
      "cell_type": "code",
      "source": [
        "confidence_interval"
      ],
      "metadata": {
        "colab": {
          "base_uri": "https://localhost:8080/"
        },
        "id": "PuGGv2OTX3ub",
        "outputId": "164eb3ef-fd57-4458-85ab-49bf23643a10"
      },
      "execution_count": 18,
      "outputs": [
        {
          "output_type": "execute_result",
          "data": {
            "text/plain": [
              "(np.float64(1.095231668626123), np.float64(1.3821016647072102))"
            ]
          },
          "metadata": {},
          "execution_count": 18
        }
      ]
    },
    {
      "cell_type": "code",
      "source": [],
      "metadata": {
        "id": "xexClxKZX5sP"
      },
      "execution_count": null,
      "outputs": []
    },
    {
      "cell_type": "markdown",
      "source": [
        "#99% confidence interval using known population standard deviation"
      ],
      "metadata": {
        "id": "Vq3xdppCYZrD"
      }
    },
    {
      "cell_type": "code",
      "source": [
        "import numpy as np\n",
        "from scipy import stats\n",
        "import math"
      ],
      "metadata": {
        "id": "rWRducJ-YjLd"
      },
      "execution_count": 33,
      "outputs": []
    },
    {
      "cell_type": "code",
      "source": [
        "mean"
      ],
      "metadata": {
        "colab": {
          "base_uri": "https://localhost:8080/"
        },
        "id": "KoAaqE5PdrOj",
        "outputId": "497bdd97-07aa-437b-e8a7-ab2ec8a18263"
      },
      "execution_count": 24,
      "outputs": [
        {
          "output_type": "execute_result",
          "data": {
            "text/plain": [
              "np.float64(1.2386666666666666)"
            ]
          },
          "metadata": {},
          "execution_count": 24
        }
      ]
    },
    {
      "cell_type": "code",
      "source": [
        "pop_std=0.2  #population standard deviation is given as 0.2 million characters\n"
      ],
      "metadata": {
        "id": "wTFursIQd1rN"
      },
      "execution_count": 31,
      "outputs": []
    },
    {
      "cell_type": "code",
      "source": [
        "confidence_level=0.99"
      ],
      "metadata": {
        "id": "9CkeIBVxeHPE"
      },
      "execution_count": 27,
      "outputs": []
    },
    {
      "cell_type": "code",
      "source": [
        "n #sample size"
      ],
      "metadata": {
        "colab": {
          "base_uri": "https://localhost:8080/"
        },
        "id": "QLBGVR9deRnu",
        "outputId": "5a6a345f-2a01-418b-fc33-aa8811747e21"
      },
      "execution_count": 29,
      "outputs": [
        {
          "output_type": "execute_result",
          "data": {
            "text/plain": [
              "15"
            ]
          },
          "metadata": {},
          "execution_count": 29
        }
      ]
    },
    {
      "cell_type": "code",
      "source": [
        "# Step 1: Calculate standard error\n",
        "standard_error = pop_std / math.sqrt(n)"
      ],
      "metadata": {
        "id": "Jh9ckz2ieXJB"
      },
      "execution_count": 34,
      "outputs": []
    },
    {
      "cell_type": "code",
      "source": [
        "standard_error"
      ],
      "metadata": {
        "colab": {
          "base_uri": "https://localhost:8080/"
        },
        "id": "dfu1qo89e16q",
        "outputId": "d77c9938-e99f-4e90-e1da-97bb57cf4e22"
      },
      "execution_count": 35,
      "outputs": [
        {
          "output_type": "execute_result",
          "data": {
            "text/plain": [
              "0.051639777949432225"
            ]
          },
          "metadata": {},
          "execution_count": 35
        }
      ]
    },
    {
      "cell_type": "code",
      "source": [
        "# Step 2: Find z-critical value\n",
        "z_critical = stat.norm.ppf(1 - (1 - confidence_level) / 2)"
      ],
      "metadata": {
        "id": "KjxcuCsnfFgu"
      },
      "execution_count": 37,
      "outputs": []
    },
    {
      "cell_type": "code",
      "source": [
        "z_critical"
      ],
      "metadata": {
        "colab": {
          "base_uri": "https://localhost:8080/"
        },
        "id": "Ne_tDVU7fT-F",
        "outputId": "c8b2c012-3995-4f41-9acc-fe666e56944e"
      },
      "execution_count": 38,
      "outputs": [
        {
          "output_type": "execute_result",
          "data": {
            "text/plain": [
              "np.float64(2.5758293035489004)"
            ]
          },
          "metadata": {},
          "execution_count": 38
        }
      ]
    },
    {
      "cell_type": "code",
      "source": [
        "# Step 3: Calculate margin of error\n",
        "margin_of_error = z_critical * standard_error"
      ],
      "metadata": {
        "id": "1AiJiuZWfbtw"
      },
      "execution_count": 39,
      "outputs": []
    },
    {
      "cell_type": "code",
      "source": [
        "margin_of_error"
      ],
      "metadata": {
        "colab": {
          "base_uri": "https://localhost:8080/"
        },
        "id": "dI4aFvtnfhdC",
        "outputId": "d49a5bd2-6177-43e4-c05c-d1c63c2850f1"
      },
      "execution_count": 40,
      "outputs": [
        {
          "output_type": "execute_result",
          "data": {
            "text/plain": [
              "np.float64(0.13301525327090588)"
            ]
          },
          "metadata": {},
          "execution_count": 40
        }
      ]
    },
    {
      "cell_type": "code",
      "source": [
        "# Step 4: Calculate confidence interval\n",
        "confi_interval=(mean-margin_of_error,mean+margin_of_error)"
      ],
      "metadata": {
        "id": "lrxW30YtfjT-"
      },
      "execution_count": 41,
      "outputs": []
    },
    {
      "cell_type": "code",
      "source": [
        "confi_interval"
      ],
      "metadata": {
        "colab": {
          "base_uri": "https://localhost:8080/"
        },
        "id": "PQ-Y3YYkfyVJ",
        "outputId": "c45bd83e-14ed-440e-d99f-fa2056d63057"
      },
      "execution_count": 42,
      "outputs": [
        {
          "output_type": "execute_result",
          "data": {
            "text/plain": [
              "(np.float64(1.1056514133957607), np.float64(1.3716819199375725))"
            ]
          },
          "metadata": {},
          "execution_count": 42
        }
      ]
    },
    {
      "cell_type": "code",
      "source": [],
      "metadata": {
        "id": "D6XZTHOBf0S6"
      },
      "execution_count": null,
      "outputs": []
    }
  ]
}